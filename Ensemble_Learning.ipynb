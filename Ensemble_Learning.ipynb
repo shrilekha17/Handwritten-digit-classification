{
 "cells": [
  {
   "cell_type": "code",
   "execution_count": 1,
   "metadata": {},
   "outputs": [
    {
     "data": {
      "image/png": "[encoded data removed]",
      "text/plain": [
       "<Figure size 432x288 with 2 Axes>"
      ]
     },
     "metadata": {
      "needs_background": "light"
     },
     "output_type": "display_data"
    }
   ],
   "source": [
    "# References:\n",
    "# 1. Image deskew: https://fsix.github.io/mnist/Deskewing.html\n",
    "\n",
    "import timeit\n",
    "import numpy as np\n",
    "import csv\n",
    "import matplotlib.pyplot as plt\n",
    "import pandas as pd\n",
    "from sklearn import preprocessing\n",
    "from scipy.ndimage import interpolation\n",
    "from mpl_toolkits.axes_grid1 import AxesGrid\n",
    "from scipy.linalg import svd\n",
    "from sklearn.manifold import TSNE\n",
    "from sklearn.decomposition import PCA\n",
    "\n",
    "import pandas as pd\n",
    "import numpy as np\n",
    "from sklearn.ensemble import RandomForestClassifier\n",
    "import numpy as np\n",
    "import pandas as pd\n",
    "import matplotlib.pyplot as plt\n",
    "%matplotlib inline\n",
    "from sklearn.ensemble import RandomForestClassifier\n",
    "from sklearn.metrics import accuracy_score\n",
    "from sklearn.metrics import confusion_matrix\n",
    "from sklearn.model_selection import cross_val_score\n",
    "#from sklearn.cross_validation import cross_val_score\n",
    "from sklearn import metrics\n",
    "import time\n",
    "\n",
    "# Functions to deskew the images\n",
    "def moments(image):\n",
    "    c0,c1 = np.mgrid[:image.shape[0],:image.shape[1]] # A trick in numPy to create a mesh grid\n",
    "    totalImage = np.sum(image) #sum of pixels\n",
    "    m0 = np.sum(c0*image)/totalImage #mu_x\n",
    "    m1 = np.sum(c1*image)/totalImage #mu_y\n",
    "    m00 = np.sum((c0-m0)**2*image)/totalImage #var(x)\n",
    "    m11 = np.sum((c1-m1)**2*image)/totalImage #var(y)\n",
    "    m01 = np.sum((c0-m0)*(c1-m1)*image)/totalImage #covariance(x,y)\n",
    "    mu_vector = np.array([m0,m1]) # Notice that these are \\mu_x, \\mu_y respectively\n",
    "    covariance_matrix = np.array([[m00,m01],[m01,m11]]) # Do you see a similarity between the covariance matrix\n",
    "    return mu_vector, covariance_matrix\n",
    "\n",
    "\n",
    "def deskew(image):\n",
    "    c,v = moments(image)\n",
    "    alpha = v[0,1]/v[0,0]\n",
    "    affine = np.array([[1,0],[alpha,1]])\n",
    "    ocenter = np.array(image.shape)/2.0\n",
    "    offset = c-np.dot(affine,ocenter)\n",
    "    return interpolation.affine_transform(image,affine,offset=offset)\n",
    "\n",
    "def deskewAll(X):\n",
    "    currents = []\n",
    "    for i in range(len(X)):\n",
    "        currents.append(deskew(X[i].reshape(28,28)).flatten())\n",
    "    return np.array(currents)\n",
    "\n",
    "# Start the time to capture ru time\n",
    "start = timeit.default_timer()\n",
    "\n",
    "# Read the training data\n",
    "data = np.genfromtxt(\"mnist_train.txt\", delimiter=',')\n",
    "label = data[:,0]\n",
    "pixel = data[:,1:]\n",
    "\n",
    "# Deskew the  training data data \n",
    "Deskewed_training_data =  deskewAll(pixel)\n",
    "\n",
    "# Center the training data\n",
    "center = preprocessing.StandardScaler(with_std=False).fit(Deskewed_training_data)\n",
    "train_X = center.transform(Deskewed_training_data)\n",
    "\n",
    "# Applying PCA to train data\n",
    "pca = PCA(0.95)\n",
    "pca = pca.fit(train_X)\n",
    "reduced_data = pca.fit_transform(train_X) # This has reduced the data without loosing 95 % variance of the data.\n",
    "\n",
    "approximation = pca.inverse_transform(reduced_data)\n",
    "\n",
    "# Original Image\n",
    "plt.subplot(1, 2, 1);\n",
    "plt.imshow(train_X[0].reshape(28,28),\n",
    "              cmap = plt.cm.gray,interpolation='nearest')\n",
    "plt.xlabel('784 components', fontsize = 10)\n",
    "plt.title('Original Image', fontsize = 10);\n",
    "\n",
    "# 115 principal components\n",
    "plt.subplot(1, 2, 2);\n",
    "plt.imshow(approximation[0].reshape(28, 28),\n",
    "              cmap = plt.cm.gray, interpolation='nearest');\n",
    "plt.xlabel('115 components', fontsize = 10)\n",
    "plt.title('95% of Explained Variance', fontsize = 10);\n",
    "\n",
    "\n",
    "# Read the test data\n",
    "data_2 = np.genfromtxt(\"mnist_test.txt\", delimiter=',')\n",
    "\n",
    "# Deskweing test data\n",
    "Deskewed_test_data = deskewAll(data_2[:,1:])\n",
    "\n",
    "# Centering test data\n",
    "center_test = preprocessing.StandardScaler(with_std=False).fit(Deskewed_test_data)\n",
    "test_X = center.transform(Deskewed_test_data)\n",
    "\n",
    "# PCA tranformation\n",
    "reduced_test_data = pca.transform(test_X)"
   ]
  },
  {
   "cell_type": "code",
   "execution_count": 2,
   "metadata": {},
   "outputs": [],
   "source": [
    "from sklearn.ensemble import RandomForestRegressor\n",
    "from sklearn.metrics import roc_auc_score\n",
    "import pandas as pd\n",
    "from sklearn.tree import DecisionTreeClassifier\n",
    "from sklearn.ensemble import BaggingClassifier\n",
    "import time\n",
    "x = reduced_data\n",
    "y = label\n",
    "X_tr = reduced_data\n",
    "Y_tr = label"
   ]
  },
  {
   "cell_type": "code",
   "execution_count": 3,
   "metadata": {},
   "outputs": [
    {
     "name": "stderr",
     "output_type": "stream",
     "text": [
      "/anaconda3/lib/python3.6/site-packages/sklearn/ensemble/bagging.py:606: UserWarning: Some inputs do not have OOB scores. This probably means too few estimators were used to compute any reliable oob estimates.\n",
      "  warn(\"Some inputs do not have OOB scores. \"\n",
      "/anaconda3/lib/python3.6/site-packages/sklearn/ensemble/bagging.py:611: RuntimeWarning: divide by zero encountered in true_divide\n",
      "  predictions.sum(axis=1)[:, np.newaxis])\n",
      "/anaconda3/lib/python3.6/site-packages/sklearn/ensemble/bagging.py:611: RuntimeWarning: invalid value encountered in true_divide\n",
      "  predictions.sum(axis=1)[:, np.newaxis])\n",
      "/anaconda3/lib/python3.6/site-packages/sklearn/ensemble/bagging.py:606: UserWarning: Some inputs do not have OOB scores. This probably means too few estimators were used to compute any reliable oob estimates.\n",
      "  warn(\"Some inputs do not have OOB scores. \"\n",
      "/anaconda3/lib/python3.6/site-packages/sklearn/ensemble/bagging.py:611: RuntimeWarning: divide by zero encountered in true_divide\n",
      "  predictions.sum(axis=1)[:, np.newaxis])\n",
      "/anaconda3/lib/python3.6/site-packages/sklearn/ensemble/bagging.py:611: RuntimeWarning: invalid value encountered in true_divide\n",
      "  predictions.sum(axis=1)[:, np.newaxis])\n",
      "/anaconda3/lib/python3.6/site-packages/sklearn/ensemble/bagging.py:606: UserWarning: Some inputs do not have OOB scores. This probably means too few estimators were used to compute any reliable oob estimates.\n",
      "  warn(\"Some inputs do not have OOB scores. \"\n",
      "/anaconda3/lib/python3.6/site-packages/sklearn/ensemble/bagging.py:611: RuntimeWarning: divide by zero encountered in true_divide\n",
      "  predictions.sum(axis=1)[:, np.newaxis])\n",
      "/anaconda3/lib/python3.6/site-packages/sklearn/ensemble/bagging.py:611: RuntimeWarning: invalid value encountered in true_divide\n",
      "  predictions.sum(axis=1)[:, np.newaxis])\n"
     ]
    }
   ],
   "source": [
    "ob_error = []\n",
    "number_of_trees = [1,5,10,50,100,200,500]\n",
    "for N_estimators in number_of_trees:\n",
    "    tree = DecisionTreeClassifier()\n",
    "    bag = BaggingClassifier(tree, n_estimators=N_estimators, oob_score=True, max_samples=0.8, random_state=42)\n",
    "    bagging = bag.fit(X_tr, Y_tr)\n",
    "    #print(\"Total time consumed is %s seconds : \" % (time.time() - start_time))\n",
    "    oob_error = 1 - bagging.oob_score_\n",
    "    ob_error = ob_error + [oob_error]\n",
    "    #print(ob_error)"
   ]
  },
  {
   "cell_type": "code",
   "execution_count": 4,
   "metadata": {},
   "outputs": [
    {
     "data": {
      "image/png": "[encoded data removed]",
      "text/plain": [
       "<Figure size 432x288 with 1 Axes>"
      ]
     },
     "metadata": {
      "needs_background": "light"
     },
     "output_type": "display_data"
    }
   ],
   "source": [
    "plt.plot(number_of_trees, ob_error, color='blue', linestyle='dashed', linewidth = 3, \n",
    "         marker='o', markerfacecolor='red', markersize=12)\n",
    "plt.title(\"Bagging\")\n",
    "plt.xlim(1, 500)\n",
    "plt.xlabel(\"number of estimators\")\n",
    "plt.ylabel(\"OOB error\")\n",
    "plt.show()"
   ]
  },
  {
   "cell_type": "code",
   "execution_count": 5,
   "metadata": {},
   "outputs": [
    {
     "name": "stdout",
     "output_type": "stream",
     "text": [
      "Accuracy Percentage   :  95.08 %\n",
      "Error Percentage      :  4.92 %\n"
     ]
    }
   ],
   "source": [
    "error = oob_error\n",
    "accuracy = 1 - error\n",
    "\n",
    "print(\"Accuracy Percentage   : \",(round(accuracy, 4) *100), \"%\")\n",
    "print(\"Error Percentage      : \",(round(error, 4) *100), \"%\")"
   ]
  },
  {
   "cell_type": "code",
   "execution_count": null,
   "metadata": {},
   "outputs": [],
   "source": [
    "#Random Forest Algorithm"
   ]
  },
  {
   "cell_type": "code",
   "execution_count": 6,
   "metadata": {},
   "outputs": [
    {
     "name": "stderr",
     "output_type": "stream",
     "text": [
      "/anaconda3/lib/python3.6/site-packages/sklearn/ensemble/forest.py:460: UserWarning: Some inputs do not have OOB scores. This probably means too few trees were used to compute any reliable oob estimates.\n",
      "  warn(\"Some inputs do not have OOB scores. \"\n",
      "/anaconda3/lib/python3.6/site-packages/sklearn/ensemble/forest.py:465: RuntimeWarning: divide by zero encountered in true_divide\n",
      "  predictions[k].sum(axis=1)[:, np.newaxis])\n",
      "/anaconda3/lib/python3.6/site-packages/sklearn/ensemble/forest.py:465: RuntimeWarning: invalid value encountered in true_divide\n",
      "  predictions[k].sum(axis=1)[:, np.newaxis])\n",
      "/anaconda3/lib/python3.6/site-packages/sklearn/ensemble/forest.py:460: UserWarning: Some inputs do not have OOB scores. This probably means too few trees were used to compute any reliable oob estimates.\n",
      "  warn(\"Some inputs do not have OOB scores. \"\n",
      "/anaconda3/lib/python3.6/site-packages/sklearn/ensemble/forest.py:465: RuntimeWarning: divide by zero encountered in true_divide\n",
      "  predictions[k].sum(axis=1)[:, np.newaxis])\n",
      "/anaconda3/lib/python3.6/site-packages/sklearn/ensemble/forest.py:465: RuntimeWarning: invalid value encountered in true_divide\n",
      "  predictions[k].sum(axis=1)[:, np.newaxis])\n",
      "/anaconda3/lib/python3.6/site-packages/sklearn/ensemble/forest.py:460: UserWarning: Some inputs do not have OOB scores. This probably means too few trees were used to compute any reliable oob estimates.\n",
      "  warn(\"Some inputs do not have OOB scores. \"\n",
      "/anaconda3/lib/python3.6/site-packages/sklearn/ensemble/forest.py:465: RuntimeWarning: divide by zero encountered in true_divide\n",
      "  predictions[k].sum(axis=1)[:, np.newaxis])\n",
      "/anaconda3/lib/python3.6/site-packages/sklearn/ensemble/forest.py:465: RuntimeWarning: invalid value encountered in true_divide\n",
      "  predictions[k].sum(axis=1)[:, np.newaxis])\n"
     ]
    }
   ],
   "source": [
    "ob_error = []\n",
    "number_of_trees = [1,5,10,50,100,200,500]\n",
    "for N_estimators in number_of_trees :\n",
    "    #start_time = time.time()\n",
    "    clf = RandomForestClassifier(n_estimators=N_estimators,warm_start = True, oob_score =True, random_state = 42)\n",
    "    clf = clf.fit(X_tr, Y_tr)\n",
    "    #print(\"Total time consumed is %s seconds : \" % (time.time() - start_time))\n",
    "    oob_error = 1 - clf.oob_score_\n",
    "    ob_error = ob_error + [oob_error]\n",
    "    #print(ob_error)"
   ]
  },
  {
   "cell_type": "code",
   "execution_count": 7,
   "metadata": {},
   "outputs": [
    {
     "data": {
      "image/png": "[encoded data removed]",
      "text/plain": [
       "<Figure size 432x288 with 1 Axes>"
      ]
     },
     "metadata": {
      "needs_background": "light"
     },
     "output_type": "display_data"
    }
   ],
   "source": [
    "plt.plot(number_of_trees, ob_error, color='green', linestyle='dashed', linewidth = 3, \n",
    "         marker='o', markerfacecolor='red', markersize=12)\n",
    "#plt.plot(N_estimators, oob_error, label=label)\n",
    "plt.title(\"Random Forest\")\n",
    "plt.xlim(1, 500)\n",
    "plt.xlabel(\"number of estimators\")\n",
    "plt.ylabel(\"OOB error\")\n",
    "plt.show()"
   ]
  },
  {
   "cell_type": "code",
   "execution_count": 8,
   "metadata": {},
   "outputs": [
    {
     "name": "stdout",
     "output_type": "stream",
     "text": [
      "Accuracy Percentage   :  97.03 %\n",
      "Error Percentage      :  2.97 %\n"
     ]
    }
   ],
   "source": [
    "error = oob_error\n",
    "accuracy = 1 - error\n",
    "\n",
    "print(\"Accuracy Percentage   : \",(round(accuracy, 4) *100), \"%\")\n",
    "print(\"Error Percentage      : \",(round(error, 4) *100), \"%\")"
   ]
  },
  {
   "cell_type": "code",
   "execution_count": null,
   "metadata": {},
   "outputs": [],
   "source": [
    "#Calculation of time for Bagging"
   ]
  },
  {
   "cell_type": "code",
   "execution_count": 9,
   "metadata": {},
   "outputs": [
    {
     "name": "stdout",
     "output_type": "stream",
     "text": [
      "Total time consumed is 1898.4705202579498 seconds : \n"
     ]
    }
   ],
   "source": [
    "start_time = time.time()\n",
    "tree = DecisionTreeClassifier()\n",
    "bag = BaggingClassifier(tree, n_estimators=200, oob_score=True, max_samples=0.8, random_state=42)\n",
    "bagging = bag.fit(X_tr, Y_tr)\n",
    "X_test = reduced_test_data\n",
    "predictionsY_test = bagging.predict(X_test)\n",
    "print(\"Total time consumed is %s seconds : \" % (time.time() - start_time))"
   ]
  },
  {
   "cell_type": "code",
   "execution_count": 10,
   "metadata": {},
   "outputs": [
    {
     "name": "stdout",
     "output_type": "stream",
     "text": [
      "Accuracy Percentage   :  94.94 %\n",
      "Error Percentage      :  5.06 %\n"
     ]
    }
   ],
   "source": [
    "error = 1 - bagging.oob_score_\n",
    "accuracy = 1 - error\n",
    "\n",
    "print(\"Accuracy Percentage   : \",(round(accuracy, 4) *100), \"%\")\n",
    "print(\"Error Percentage      : \",(round(error, 4) *100), \"%\")"
   ]
  },
  {
   "cell_type": "code",
   "execution_count": 11,
   "metadata": {},
   "outputs": [
    {
     "data": {
      "text/plain": [
       "array([7., 2., 1., ..., 4., 5., 6.])"
      ]
     },
     "metadata": {},
     "output_type": "display_data"
    }
   ],
   "source": [
    "display(predictionsY_test)"
   ]
  },
  {
   "cell_type": "code",
   "execution_count": null,
   "metadata": {},
   "outputs": [],
   "source": [
    "#Calculation of time for RF"
   ]
  },
  {
   "cell_type": "code",
   "execution_count": 12,
   "metadata": {},
   "outputs": [
    {
     "name": "stdout",
     "output_type": "stream",
     "text": [
      "Total time consumed is 138.83016300201416 seconds : \n"
     ]
    }
   ],
   "source": [
    "start_time = time.time()\n",
    "clf = RandomForestClassifier(n_estimators=200,warm_start = True, oob_score =True, random_state = 42, \n",
    "                             max_features=\"sqrt\")\n",
    "clf = clf.fit(X_tr, Y_tr)\n",
    "\n",
    "X_test = reduced_test_data\n",
    "predictionsY_test = clf.predict(X_test)\n",
    "print(\"Total time consumed is %s seconds : \" % (time.time() - start_time))"
   ]
  },
  {
   "cell_type": "code",
   "execution_count": 13,
   "metadata": {},
   "outputs": [
    {
     "name": "stdout",
     "output_type": "stream",
     "text": [
      "Accuracy Percentage   :  96.72 %\n",
      "Error Percentage      :  3.2800000000000002 %\n"
     ]
    }
   ],
   "source": [
    "error = 1 - clf.oob_score_\n",
    "accuracy = 1 - error\n",
    "\n",
    "print(\"Accuracy Percentage   : \",(round(accuracy, 4) *100), \"%\")\n",
    "print(\"Error Percentage      : \",(round(error, 4) *100), \"%\")"
   ]
  },
  {
   "cell_type": "code",
   "execution_count": 14,
   "metadata": {},
   "outputs": [
    {
     "data": {
      "text/plain": [
       "array([7., 2., 1., ..., 4., 5., 6.])"
      ]
     },
     "metadata": {},
     "output_type": "display_data"
    }
   ],
   "source": [
    "display(predictionsY_test)"
   ]
  },
  {
   "cell_type": "code",
   "execution_count": null,
   "metadata": {},
   "outputs": [],
   "source": []
  },
  {
   "cell_type": "code",
   "execution_count": null,
   "metadata": {},
   "outputs": [],
   "source": [
    "# Running for 85% variance data"
   ]
  },
  {
   "cell_type": "code",
   "execution_count": 15,
   "metadata": {},
   "outputs": [
    {
     "data": {
      "image/png": "[encoded data removed]",
      "text/plain": [
       "<Figure size 432x288 with 2 Axes>"
      ]
     },
     "metadata": {
      "needs_background": "light"
     },
     "output_type": "display_data"
    }
   ],
   "source": [
    "\n",
    "\n",
    "# Applying PCA to train data\n",
    "pca = PCA(0.85)\n",
    "pca = pca.fit(train_X)\n",
    "reduced_data = pca.fit_transform(train_X) # This has reduced the data without loosing 85 % variance of the data.\n",
    "\n",
    "approximation = pca.inverse_transform(reduced_data)\n",
    "\n",
    "# Original Image\n",
    "plt.subplot(1, 2, 1);\n",
    "plt.imshow(train_X[0].reshape(28,28),\n",
    "              cmap = plt.cm.gray,interpolation='nearest')\n",
    "plt.xlabel('784 components', fontsize = 10)\n",
    "plt.title('Original Image', fontsize = 10);\n",
    "\n",
    "# 115 principal components\n",
    "plt.subplot(1, 2, 2);\n",
    "plt.imshow(approximation[0].reshape(28, 28),\n",
    "              cmap = plt.cm.gray, interpolation='nearest');\n",
    "plt.xlabel('115 components', fontsize = 10)\n",
    "plt.title('85% of Explained Variance', fontsize = 10);\n",
    "\n",
    "\n",
    "# Read the test data\n",
    "data_2 = np.genfromtxt(\"mnist_test.txt\", delimiter=',')\n",
    "\n",
    "# Deskweing test data\n",
    "Deskewed_test_data = deskewAll(data_2[:,1:])\n",
    "\n",
    "# Centering test data\n",
    "center_test = preprocessing.StandardScaler(with_std=False).fit(Deskewed_test_data)\n",
    "test_X = center.transform(Deskewed_test_data)\n",
    "\n",
    "# PCA tranformation\n",
    "reduced_test_data = pca.transform(test_X)"
   ]
  },
  {
   "cell_type": "code",
   "execution_count": 16,
   "metadata": {},
   "outputs": [
    {
     "name": "stdout",
     "output_type": "stream",
     "text": [
      "(10000, 46)\n"
     ]
    }
   ],
   "source": [
    "print(reduced_test_data.shape)"
   ]
  },
  {
   "cell_type": "code",
   "execution_count": 17,
   "metadata": {},
   "outputs": [],
   "source": [
    "x = reduced_data\n",
    "y = label\n",
    "X_tr = reduced_data\n",
    "Y_tr = label"
   ]
  },
  {
   "cell_type": "code",
   "execution_count": null,
   "metadata": {},
   "outputs": [],
   "source": [
    "#Calculation of time for Bagging"
   ]
  },
  {
   "cell_type": "code",
   "execution_count": 18,
   "metadata": {},
   "outputs": [],
   "source": [
    "start_time = time.time()\n",
    "tree = DecisionTreeClassifier()\n",
    "bag = BaggingClassifier(tree, n_estimators=200, oob_score=True, max_samples=0.8, random_state=42)\n",
    "bagging = bag.fit(X_tr, Y_tr)"
   ]
  },
  {
   "cell_type": "code",
   "execution_count": 19,
   "metadata": {},
   "outputs": [
    {
     "name": "stdout",
     "output_type": "stream",
     "text": [
      "Total time consumed is 712.0754270553589 seconds : \n"
     ]
    }
   ],
   "source": [
    "X_test = reduced_test_data\n",
    "predictionsY_test = bagging.predict(X_test)\n",
    "print(\"Total time consumed is %s seconds : \" % (time.time() - start_time))"
   ]
  },
  {
   "cell_type": "code",
   "execution_count": 20,
   "metadata": {},
   "outputs": [
    {
     "name": "stdout",
     "output_type": "stream",
     "text": [
      "Accuracy Percentage   :  95.38 %\n",
      "Error Percentage      :  4.62 %\n"
     ]
    }
   ],
   "source": [
    "error = 1 - bagging.oob_score_\n",
    "accuracy = 1 - error\n",
    "\n",
    "print(\"Accuracy Percentage   : \",(round(accuracy, 4) *100), \"%\")\n",
    "print(\"Error Percentage      : \",(round(error, 4) *100), \"%\")"
   ]
  },
  {
   "cell_type": "code",
   "execution_count": 21,
   "metadata": {},
   "outputs": [
    {
     "data": {
      "text/plain": [
       "array([7., 2., 1., ..., 4., 5., 6.])"
      ]
     },
     "metadata": {},
     "output_type": "display_data"
    }
   ],
   "source": [
    "display(predictionsY_test)"
   ]
  },
  {
   "cell_type": "code",
   "execution_count": null,
   "metadata": {},
   "outputs": [],
   "source": [
    "#Calculation of time for RF"
   ]
  },
  {
   "cell_type": "code",
   "execution_count": 22,
   "metadata": {},
   "outputs": [
    {
     "name": "stdout",
     "output_type": "stream",
     "text": [
      "Total time consumed is 85.26480388641357 seconds : \n"
     ]
    }
   ],
   "source": [
    "start_time = time.time()\n",
    "clf = RandomForestClassifier(n_estimators=200,warm_start = True, oob_score =True, random_state = 42, \n",
    "                             max_features=\"sqrt\")\n",
    "clf = clf.fit(X_tr, Y_tr)\n",
    "\n",
    "X_test = reduced_test_data\n",
    "predictionsY_test = clf.predict(X_test)\n",
    "print(\"Total time consumed is %s seconds : \" % (time.time() - start_time))"
   ]
  },
  {
   "cell_type": "code",
   "execution_count": 23,
   "metadata": {},
   "outputs": [
    {
     "name": "stdout",
     "output_type": "stream",
     "text": [
      "Accuracy Percentage   :  97.04 %\n",
      "Error Percentage      :  2.96 %\n"
     ]
    }
   ],
   "source": [
    "error = 1 - clf.oob_score_\n",
    "accuracy = 1 - error\n",
    "\n",
    "print(\"Accuracy Percentage   : \",(round(accuracy, 4) *100), \"%\")\n",
    "print(\"Error Percentage      : \",(round(error, 4) *100), \"%\")"
   ]
  },
  {
   "cell_type": "code",
   "execution_count": 24,
   "metadata": {},
   "outputs": [
    {
     "data": {
      "text/plain": [
       "array([7., 2., 1., ..., 4., 5., 6.])"
      ]
     },
     "metadata": {},
     "output_type": "display_data"
    }
   ],
   "source": [
    "display(predictionsY_test)"
   ]
  },
  {
   "cell_type": "code",
   "execution_count": null,
   "metadata": {},
   "outputs": [],
   "source": []
  }
 ],
 "metadata": {
  "kernelspec": {
   "display_name": "Python 3",
   "language": "python",
   "name": "python3"
  },
  "language_info": {
   "codemirror_mode": {
    "name": "ipython",
    "version": 3
   },
   "file_extension": ".py",
   "mimetype": "text/x-python",
   "name": "python",
   "nbconvert_exporter": "python",
   "pygments_lexer": "ipython3",
   "version": "3.6.5"
  }
 },
 "nbformat": 4,
 "nbformat_minor": 2
}
