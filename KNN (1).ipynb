{
 "cells": [
  {
   "cell_type": "code",
   "execution_count": 71,
   "metadata": {},
   "outputs": [
    {
     "data": {
      "image/png": "[encoded data removed]",
      "text/plain": [
       "<Figure size 432x288 with 2 Axes>"
      ]
     },
     "metadata": {},
     "output_type": "display_data"
    }
   ],
   "source": [
    "# References:\n",
    "# 1. Image deskew: https://fsix.github.io/mnist/Deskewing.html\n",
    "\n",
    "import timeit\n",
    "import numpy as np\n",
    "import csv\n",
    "import matplotlib.pyplot as plt\n",
    "import pandas as pd\n",
    "from sklearn import preprocessing\n",
    "from scipy.ndimage import interpolation\n",
    "from mpl_toolkits.axes_grid1 import AxesGrid \n",
    "from scipy.linalg import svd\n",
    "from sklearn.manifold import TSNE\n",
    "from sklearn.decomposition import PCA\n",
    "\n",
    "# Functions to deskew the images\n",
    "def moments(image):\n",
    "    c0,c1 = np.mgrid[:image.shape[0],:image.shape[1]] # A trick in numPy to create a mesh grid\n",
    "    totalImage = np.sum(image) #sum of pixels\n",
    "    m0 = np.sum(c0*image)/totalImage #mu_x\n",
    "    m1 = np.sum(c1*image)/totalImage #mu_y\n",
    "    m00 = np.sum((c0-m0)**2*image)/totalImage #var(x)\n",
    "    m11 = np.sum((c1-m1)**2*image)/totalImage #var(y)\n",
    "    m01 = np.sum((c0-m0)*(c1-m1)*image)/totalImage #covariance(x,y)\n",
    "    mu_vector = np.array([m0,m1]) # Notice that these are \\mu_x, \\mu_y respectively\n",
    "    covariance_matrix = np.array([[m00,m01],[m01,m11]]) # Do you see a similarity between the covariance matrix\n",
    "    return mu_vector, covariance_matrix\n",
    "\n",
    "\n",
    "def deskew(image):\n",
    "    c,v = moments(image)\n",
    "    alpha = v[0,1]/v[0,0]\n",
    "    affine = np.array([[1,0],[alpha,1]])\n",
    "    ocenter = np.array(image.shape)/2.0\n",
    "    offset = c-np.dot(affine,ocenter)\n",
    "    return interpolation.affine_transform(image,affine,offset=offset)\n",
    "\n",
    "def deskewAll(X):\n",
    "    currents = []\n",
    "    for i in range(len(X)):\n",
    "        currents.append(deskew(X[i].reshape(28,28)).flatten())\n",
    "    return np.array(currents)\n",
    "\n",
    "# Start the time to capture ru time\n",
    "start = timeit.default_timer()\n",
    "\n",
    "# Read the training data\n",
    "data = np.genfromtxt(\"mnist_train.txt\", delimiter=',')\n",
    "label = data[:,0]\n",
    "pixel = data[:,1:]\n",
    "\n",
    "# Deskew the  training data data \n",
    "Deskewed_training_data =  deskewAll(pixel)\n",
    "\n",
    "# Center the training data\n",
    "center = preprocessing.StandardScaler(with_std=False).fit(Deskewed_training_data)\n",
    "train_X = center.transform(Deskewed_training_data)\n",
    "\n",
    "# Applying PCA to train data\n",
    "pca = PCA(0.85)\n",
    "pca = pca.fit(train_X)\n",
    "reduced_data = pca.fit_transform(train_X) # This has reduced the data without loosing 95 % variance of the data.\n",
    "\n",
    "approximation = pca.inverse_transform(reduced_data)\n",
    "\n",
    "# Original Image\n",
    "plt.subplot(1, 2, 1);\n",
    "plt.imshow(train_X[0].reshape(28,28),\n",
    "              cmap = plt.cm.gray,interpolation='nearest')\n",
    "plt.xlabel('784 components', fontsize = 10)\n",
    "plt.title('Original Image', fontsize = 10);\n",
    "\n",
    "# 115 principal components\n",
    "plt.subplot(1, 2, 2);\n",
    "plt.imshow(approximation[0].reshape(28, 28),\n",
    "              cmap = plt.cm.gray, interpolation='nearest');\n",
    "plt.xlabel('115 components', fontsize = 10)\n",
    "plt.title('85% of Explained Variance', fontsize = 10);\n",
    "\n",
    "\n",
    "# Read the test data\n",
    "data_2 = np.genfromtxt(\"mnist_test.txt\", delimiter=',')\n",
    " \n",
    "# Deskweing test data\n",
    "Deskewed_test_data = deskewAll(data_2[:,1:])\n",
    "\n",
    "# Centering test data\n",
    "center_test = preprocessing.StandardScaler(with_std=False).fit(Deskewed_test_data)\n",
    "test_X = center.transform(Deskewed_test_data)\n",
    "\n",
    "# PCA tranformation\n",
    "reduced_test_data = pca.transform(test_X)"
   ]
  },
  {
   "cell_type": "code",
   "execution_count": 22,
   "metadata": {},
   "outputs": [
    {
     "name": "stdout",
     "output_type": "stream",
     "text": [
      "Validation Errors:\n",
      "[0.016733668253920086, 0.018250103367709936, 0.01550019980139894, 0.016216841523553183, 0.01600016983638841, 0.016350023226025523, 0.016683506597045983, 0.017116788260542748, 0.01708344159920705, 0.017616736677358635]\n",
      "                \n",
      "Test Errors:\n",
      "[0.027184592496920512, 0.029982061488132428, 0.027080477242919954, 0.026382890789956037, 0.026580153038853638, 0.02788289241797448, 0.029280762231922774, 0.02928100401468725, 0.030280026481535383, 0.029880464169718457]\n"
     ]
    },
    {
     "data": {
      "image/png": "[encoded data removed]",
      "text/plain": [
       "<Figure size 432x288 with 1 Axes>"
      ]
     },
     "metadata": {},
     "output_type": "display_data"
    },
    {
     "name": "stdout",
     "output_type": "stream",
     "text": [
      "Wall time: 21min 48s\n"
     ]
    }
   ],
   "source": [
    "## Did cross validation to get the best k. \n",
    "\n",
    "\n",
    "%%time\n",
    "from sklearn.model_selection import cross_val_score\n",
    "from sklearn.neighbors import KNeighborsClassifier\n",
    "  \n",
    "import matplotlib.pyplot as plt\n",
    "\n",
    "data123 = np.genfromtxt(\"mnist_test.txt\", delimiter=',')\n",
    "test_label = data123[:,0]\n",
    "\n",
    "x=[]\n",
    "y=[]\n",
    "z=[]\n",
    "for i in range(10):\n",
    "    k=i+1\n",
    "    x.append(k)\n",
    "    knn=KNeighborsClassifier(n_neighbors=k).fit(reduced_data,label)\n",
    "    accuracies=cross_val_score(estimator=knn,X=reduced_data,y=label,cv=6)\n",
    "    \n",
    "    y.append(1-accuracies.mean())\n",
    "    \n",
    "for j in range(10):\n",
    "    k=j+1\n",
    "    knn=KNeighborsClassifier(n_neighbors=k).fit(reduced_data,label)\n",
    "    accuracies=cross_val_score(estimator=knn,X=reduced_test_data,y=test_label,cv=6)\n",
    "    z.append(1-accuracies.mean())\n",
    "print(\"Validation Errors:\")\n",
    "print(y)\n",
    "print('                ')\n",
    "print(\"Test Errors:\")\n",
    "print(z)\n",
    "plt.plot(x,y,'-g',label='Validation Error')\n",
    "plt.plot(x,z,'-b',label='Test Error')\n",
    "plt.xlabel( \"K values\")\n",
    "plt.ylabel(\"Error Rate\")\n",
    "plt.legend()\n",
    "plt.show()\n",
    "\n",
    "\n",
    "# Green curve shows the validatio error and blue curve shows the test error. As we can see that we got the lowest \n",
    "# validation error at k = 3 and afterwards it is increasing. Therefore, I decided to choose k = 3. "
   ]
  },
  {
   "cell_type": "code",
   "execution_count": 72,
   "metadata": {},
   "outputs": [
    {
     "name": "stdout",
     "output_type": "stream",
     "text": [
      "accuracy: 0.9848\n",
      "0.015199999999999991\n",
      "Wall time: 48.6 s\n"
     ]
    }
   ],
   "source": [
    "# Applied KNN with k = 3 on reduced dimension dataset. \n",
    "%%time\n",
    "from sklearn.neighbors import KNeighborsClassifier\n",
    "from sklearn.metrics import accuracy_score\n",
    "import numpy as np\n",
    "\n",
    "\n",
    "data1 = np.genfromtxt(\"mnist_test.txt\", delimiter=',')\n",
    "test_label = data1[:,0]\n",
    "\n",
    "knn=KNeighborsClassifier(n_neighbors=3).fit(reduced_data,label)\n",
    "\n",
    "\n",
    "\n",
    "y_pred=knn.predict(reduced_test_data) \n",
    "accuracy=accuracy_score(test_label,y_pred)\n",
    "error_rate=1-accuracy\n",
    "\n",
    "print(\"accuracy:\",accuracy  )\n",
    "print(error_rate)\n",
    "\n",
    "# Accuracy rate is 0.9848"
   ]
  },
  {
   "cell_type": "code",
   "execution_count": 73,
   "metadata": {},
   "outputs": [
    {
     "data": {
      "text/plain": [
       "array([[ 975,    0,    0,    0,    0,    0,    3,    1,    1,    0],\n",
       "       [   0, 1131,    3,    0,    0,    0,    1,    0,    0,    0],\n",
       "       [   3,    0, 1017,    2,    1,    0,    2,    3,    4,    0],\n",
       "       [   1,    0,    4,  992,    0,    3,    0,    4,    6,    0],\n",
       "       [   0,    1,    1,    0,  963,    0,    1,    1,    0,   15],\n",
       "       [   4,    0,    0,    7,    2,  874,    2,    0,    1,    2],\n",
       "       [   4,    3,    0,    0,    1,    0,  950,    0,    0,    0],\n",
       "       [   1,    1,    5,    2,    1,    0,    0, 1011,    0,    7],\n",
       "       [   3,    0,    2,    3,    2,    6,    1,    3,  952,    2],\n",
       "       [   1,    0,    0,    5,   12,    3,    1,    3,    1,  983]],\n",
       "      dtype=int64)"
      ]
     },
     "execution_count": 73,
     "metadata": {},
     "output_type": "execute_result"
    }
   ],
   "source": [
    "from sklearn.metrics import confusion_matrix\n",
    "\n",
    "confusion_matrix(test_label,y_pred)\n",
    "# Confusion matrix shows that 4 was misclassified as 9 fiftee times. Similalry we can \n",
    "# check for other digits misclassification as well."
   ]
  }
 ],
 "metadata": {
  "kernelspec": {
   "display_name": "Python 3",
   "language": "python",
   "name": "python3"
  },
  "language_info": {
   "codemirror_mode": {
    "name": "ipython",
    "version": 3
   },
   "file_extension": ".py",
   "mimetype": "text/x-python",
   "name": "python",
   "nbconvert_exporter": "python",
   "pygments_lexer": "ipython3",
   "version": "3.6.4"
  }
 },
 "nbformat": 4,
 "nbformat_minor": 2
}
